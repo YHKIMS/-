{
 "cells": [
  {
   "cell_type": "code",
   "execution_count": 11,
   "id": "e9ddeb43",
   "metadata": {},
   "outputs": [],
   "source": [
    "# 엑셀 파일 통합, 엑셀로 내보내기\n",
    "import glob\n",
    "import pandas as pd\n",
    "\n",
    "excel_data_files1=glob.glob(r'C:\\Users\\ewsn9\\Desktop\\부동산데이터\\담당자별_판매량_*사원.xlsx')\n",
    "total_data=pd.DataFrame()\n",
    "\n",
    "for f in excel_data_files1:\n",
    "    df=pd.read_excel(f)\n",
    "    total_data=total_data.append(df,ignore_index=True)\n",
    "\n",
    "excel_file_name=r'C:\\Users\\ewsn9\\Desktop\\부동산데이터\\담당자별_판매량_통합.xlsx'\n",
    "excel_total_file_writer=pd.ExcelWriter(excel_file_name,engine='xlsxwriter')\n",
    "total_data.to_excel(excel_total_file_writer,index=False,sheet_name=\"담당자별_판매량_통합\")\n",
    "excel_total_file_writer.save()\n",
    "\n",
    "\n",
    "\n",
    "\n"
   ]
  },
  {
   "cell_type": "code",
   "execution_count": 12,
   "id": "d5bae78d",
   "metadata": {},
   "outputs": [
    {
     "name": "stdout",
     "output_type": "stream",
     "text": [
      "C:\\Users\\ewsn9\\Desktop\\부동산데이터\\담당자별_판매량_Andy사원2.xlsx\n",
      "C:\\Users\\ewsn9\\Desktop\\부동산데이터\\담당자별_판매량_Beck사원2.xlsx\n",
      "C:\\Users\\ewsn9\\Desktop\\부동산데이터\\담당자별_판매량_Chris사원2.xlsx\n"
     ]
    }
   ],
   "source": [
    "#  다수의 엑셀파일 일괄 수정 후 재 저장\n",
    "import re\n",
    "excel_data_files1=glob.glob(r'C:\\Users\\ewsn9\\Desktop\\부동산데이터\\담당자별_판매량_*사원.xlsx')\n",
    "for f in excel_data_files1:\n",
    "    df=pd.read_excel(f)\n",
    "    if(df.loc[1,'담당자']=='A'):\n",
    "        df['담당자']='Andy'\n",
    "    elif(df.loc[1,'담당자']=='B'):\n",
    "        df['담당자']='Beck'\n",
    "    elif(df.loc[1,'담당자']=='C'):\n",
    "        df['담당자']='Chris'\n",
    "        \n",
    "    f_new=re.sub('.xlsx','2.xlsx',f)\n",
    "    print(f_new)\n",
    "    new_excel_file=pd.ExcelWriter(f_new,engine='xlsxwriter')\n",
    "    df.to_excel(new_excel_file,index=False)\n",
    "    new_excel_file.save()\n",
    "    "
   ]
  },
  {
   "cell_type": "code",
   "execution_count": null,
   "id": "043c44ff",
   "metadata": {},
   "outputs": [],
   "source": []
  }
 ],
 "metadata": {
  "kernelspec": {
   "display_name": "Python 3 (ipykernel)",
   "language": "python",
   "name": "python3"
  },
  "language_info": {
   "codemirror_mode": {
    "name": "ipython",
    "version": 3
   },
   "file_extension": ".py",
   "mimetype": "text/x-python",
   "name": "python",
   "nbconvert_exporter": "python",
   "pygments_lexer": "ipython3",
   "version": "3.8.12"
  }
 },
 "nbformat": 4,
 "nbformat_minor": 5
}
